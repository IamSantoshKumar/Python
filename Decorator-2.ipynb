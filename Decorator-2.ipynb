{
 "cells": [
  {
   "cell_type": "code",
   "execution_count": 7,
   "metadata": {},
   "outputs": [
    {
     "name": "stdout",
     "output_type": "stream",
     "text": [
      "PYTHONISTA WORLD!!PYTHONISTA WORLD!!\n"
     ]
    }
   ],
   "source": [
    "def duplicate(function):\n",
    "    def wrapper(*args,**kwargs):\n",
    "         return 2*function(*args,**kwargs)\n",
    "    return wrapper\n",
    "\n",
    "\n",
    "def formatting(lowerscase = False):\n",
    "    def formatting_real(function):\n",
    "        def wrapper(*args, **kwargs):\n",
    "            if lowerscase:\n",
    "                return function(*args,**kwargs).lower()\n",
    "            else:\n",
    "                return function(*args,**kwargs).upper()\n",
    "        return wrapper\n",
    "    return formatting_real\n",
    "\n",
    "\n",
    "@duplicate\n",
    "@formatting(lowerscase = False)\n",
    "def hello_world(msg = None):\n",
    "    return msg\n",
    "\n",
    "print(hello_world(\"Pythonista World!!\"))"
   ]
  },
  {
   "cell_type": "code",
   "execution_count": null,
   "metadata": {},
   "outputs": [],
   "source": []
  }
 ],
 "metadata": {
  "kernelspec": {
   "display_name": "Python 3",
   "language": "python",
   "name": "python3"
  },
  "language_info": {
   "codemirror_mode": {
    "name": "ipython",
    "version": 3
   },
   "file_extension": ".py",
   "mimetype": "text/x-python",
   "name": "python",
   "nbconvert_exporter": "python",
   "pygments_lexer": "ipython3",
   "version": "3.7.4"
  }
 },
 "nbformat": 4,
 "nbformat_minor": 2
}
