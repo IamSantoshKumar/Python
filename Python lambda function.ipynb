{
 "cells": [
  {
   "cell_type": "code",
   "execution_count": 1,
   "metadata": {},
   "outputs": [
    {
     "name": "stdout",
     "output_type": "stream",
     "text": [
      "[10, 8, 7, 5, 11]\n"
     ]
    }
   ],
   "source": [
    "sequences = [10,2,8,7,5,4,3,11,0, 1]\n",
    "filtered_result = filter (lambda x: x > 4, sequences) \n",
    "print(list(filtered_result))"
   ]
  },
  {
   "cell_type": "code",
   "execution_count": 2,
   "metadata": {},
   "outputs": [
    {
     "name": "stdout",
     "output_type": "stream",
     "text": [
      "[100, 4, 64, 49, 25, 16, 9, 121, 0, 1]\n"
     ]
    }
   ],
   "source": [
    "sequences = [10,2,8,7,5,4,3,11,0, 1]\n",
    "filtered_result = map (lambda x: x*x, sequences) \n",
    "print(list(filtered_result))"
   ]
  },
  {
   "cell_type": "code",
   "execution_count": 3,
   "metadata": {},
   "outputs": [
    {
     "name": "stdout",
     "output_type": "stream",
     "text": [
      "120\n"
     ]
    }
   ],
   "source": [
    "from functools import reduce\n",
    "sequences = [1,2,3,4,5]\n",
    "product = reduce (lambda x, y: x*y, sequences)\n",
    "print(product)"
   ]
  },
  {
   "cell_type": "code",
   "execution_count": 5,
   "metadata": {},
   "outputs": [
    {
     "name": "stdout",
     "output_type": "stream",
     "text": [
      "0  4  8  12  16 \n"
     ]
    }
   ],
   "source": [
    "a = ' '.join(map(lambda x: str(x*2) if x%2==0 else \"\", range(10)))\n",
    "print(a)"
   ]
  },
  {
   "cell_type": "code",
   "execution_count": 6,
   "metadata": {},
   "outputs": [
    {
     "name": "stdout",
     "output_type": "stream",
     "text": [
      "sun\n",
      "mon\n",
      "wed\n",
      "fri\n"
     ]
    }
   ],
   "source": [
    "weekdays = ['sun', 'mon', 'tues', 'wed', 'thurs', 'fri']\n",
    "days = filter(lambda day: day if len(day)==3 else '', weekdays)\n",
    "for d in days:\n",
    "   print(d)"
   ]
  },
  {
   "cell_type": "code",
   "execution_count": 7,
   "metadata": {},
   "outputs": [],
   "source": [
    "listofNum = [1,3,33,12,34,56,11,19,21,34,15]"
   ]
  },
  {
   "cell_type": "code",
   "execution_count": 12,
   "metadata": {},
   "outputs": [
    {
     "name": "stdout",
     "output_type": "stream",
     "text": [
      "[2, 6, 33, 36, 34, 56, 33, 57, 21, 34, 45]\n"
     ]
    }
   ],
   "source": [
    "Square_root_nd_cube = list(map(lambda x : x*2 if x < 10 else (x*3 if x < 20 else x),listofNum))\n",
    "print(Square_root_nd_cube)"
   ]
  },
  {
   "cell_type": "code",
   "execution_count": 13,
   "metadata": {},
   "outputs": [
    {
     "data": {
      "text/plain": [
       "[100, 200, 300, 101, 201, 301, 102, 202, 302]"
      ]
     },
     "execution_count": 13,
     "metadata": {},
     "output_type": "execute_result"
    }
   ],
   "source": [
    "a=[x+y for x in [0,1,2] for y in [100,200,300]]\n",
    "a"
   ]
  },
  {
   "cell_type": "code",
   "execution_count": 15,
   "metadata": {},
   "outputs": [
    {
     "data": {
      "text/plain": [
       "[['water', 'ham'],\n",
       " ['water', 'eggs'],\n",
       " ['water', 'spam'],\n",
       " ['tea', 'ham'],\n",
       " ['tea', 'eggs'],\n",
       " ['tea', 'spam'],\n",
       " ['juice', 'ham'],\n",
       " ['juice', 'eggs'],\n",
       " ['juice', 'spam']]"
      ]
     },
     "execution_count": 15,
     "metadata": {},
     "output_type": "execute_result"
    }
   ],
   "source": [
    "possible_choices = [ [drink,food] for drink in ['water', 'tea', 'juice'] for food in ['ham', 'eggs', 'spam']]\n",
    "possible_choices"
   ]
  },
  {
   "cell_type": "code",
   "execution_count": 16,
   "metadata": {},
   "outputs": [
    {
     "data": {
      "text/plain": [
       "[(0, 0),\n",
       " (0, 1),\n",
       " (0, 2),\n",
       " (1, 0),\n",
       " (1, 1),\n",
       " (1, 2),\n",
       " (2, 0),\n",
       " (2, 1),\n",
       " (2, 2),\n",
       " (3, 0),\n",
       " (3, 1),\n",
       " (3, 2),\n",
       " (4, 0),\n",
       " (4, 1),\n",
       " (4, 2)]"
      ]
     },
     "execution_count": 16,
     "metadata": {},
     "output_type": "execute_result"
    }
   ],
   "source": [
    "coords = [ (x,y) for x in range(5) for y in range(3) ]\n",
    "coords"
   ]
  },
  {
   "cell_type": "code",
   "execution_count": 17,
   "metadata": {},
   "outputs": [
    {
     "data": {
      "text/plain": [
       "[9, 16, 25, 36, 49]"
      ]
     },
     "execution_count": 17,
     "metadata": {},
     "output_type": "execute_result"
    }
   ],
   "source": [
    "special_squares = [ x**2 for x in range(10) if x**2 > 5 and x**2 < 50 ]\n",
    "special_squares"
   ]
  },
  {
   "cell_type": "code",
   "execution_count": 18,
   "metadata": {},
   "outputs": [
    {
     "data": {
      "text/plain": [
       "['Bob', 'Barbara']"
      ]
     },
     "execution_count": 18,
     "metadata": {},
     "output_type": "execute_result"
    }
   ],
   "source": [
    "b_names = [ name for name in ['Anne', 'Amy', 'Bob', 'David', 'Carrie', 'Barbara', 'Zach'] if name.startswith('B') ]\n",
    "b_names"
   ]
  },
  {
   "cell_type": "code",
   "execution_count": 19,
   "metadata": {},
   "outputs": [
    {
     "data": {
      "text/plain": [
       "[9, 16, 25, 36, 49]"
      ]
     },
     "execution_count": 19,
     "metadata": {},
     "output_type": "execute_result"
    }
   ],
   "source": [
    "special_squares = [ s for s in [ x**2 for x in range(10) ] if s > 5 and s < 50 ]\n",
    "special_squares"
   ]
  },
  {
   "cell_type": "code",
   "execution_count": null,
   "metadata": {},
   "outputs": [],
   "source": []
  }
 ],
 "metadata": {
  "kernelspec": {
   "display_name": "Python 3",
   "language": "python",
   "name": "python3"
  },
  "language_info": {
   "codemirror_mode": {
    "name": "ipython",
    "version": 3
   },
   "file_extension": ".py",
   "mimetype": "text/x-python",
   "name": "python",
   "nbconvert_exporter": "python",
   "pygments_lexer": "ipython3",
   "version": "3.7.4"
  }
 },
 "nbformat": 4,
 "nbformat_minor": 2
}
