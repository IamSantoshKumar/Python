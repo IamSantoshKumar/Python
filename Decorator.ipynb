{
 "cells": [
  {
   "cell_type": "code",
   "execution_count": 17,
   "metadata": {},
   "outputs": [],
   "source": [
    "#Python Decorator Example"
   ]
  },
  {
   "cell_type": "code",
   "execution_count": 35,
   "metadata": {},
   "outputs": [],
   "source": [
    "import time \n",
    "import datetime"
   ]
  },
  {
   "cell_type": "code",
   "execution_count": 46,
   "metadata": {},
   "outputs": [],
   "source": [
    "def timing(func):\n",
    "    def wrapper_f(*args, **kwargs):\n",
    "        start=time.time()\n",
    "        starttime=time.strftime(\"%Y-%m-%d %H:%M:%S\",time.gmtime(time.time()))\n",
    "        print('Start Time {}'.format(starttime))\n",
    "        result=func(*args, **kwargs)\n",
    "        end=time.time()\n",
    "        endtime=time.strftime(\"%Y-%m-%d %H:%M:%S\",time.gmtime(time.time()))\n",
    "        print('End Time {}'.format(endtime))\n",
    "        print('Elapsed time :  {}'.format(end-start))\n",
    "        return result\n",
    "    return wrapper_f"
   ]
  },
  {
   "cell_type": "code",
   "execution_count": 47,
   "metadata": {},
   "outputs": [],
   "source": [
    "@timing\n",
    "def tot_sum(num):\n",
    "    sum=0\n",
    "    for i in range(num+1):\n",
    "        sum+=1    \n",
    "    return sum"
   ]
  },
  {
   "cell_type": "code",
   "execution_count": 48,
   "metadata": {},
   "outputs": [
    {
     "name": "stdout",
     "output_type": "stream",
     "text": [
      "Start Time 2019-12-26 09:13:14\n",
      "End Time 2019-12-26 09:13:15\n",
      "Elapsed time :  0.7756340503692627\n",
      "10000001\n"
     ]
    }
   ],
   "source": [
    "print(tot_sum(10000000))"
   ]
  },
  {
   "cell_type": "code",
   "execution_count": null,
   "metadata": {},
   "outputs": [],
   "source": []
  }
 ],
 "metadata": {
  "kernelspec": {
   "display_name": "Python 3",
   "language": "python",
   "name": "python3"
  },
  "language_info": {
   "codemirror_mode": {
    "name": "ipython",
    "version": 3
   },
   "file_extension": ".py",
   "mimetype": "text/x-python",
   "name": "python",
   "nbconvert_exporter": "python",
   "pygments_lexer": "ipython3",
   "version": "3.7.4"
  }
 },
 "nbformat": 4,
 "nbformat_minor": 2
}
